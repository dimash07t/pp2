{
 "cells": [
  {
   "cell_type": "code",
   "execution_count": 3,
   "metadata": {},
   "outputs": [
    {
     "name": "stdout",
     "output_type": "stream",
     "text": [
      "Input degree: 15\n",
      "Convert radian: 0.2617993877991494\n"
     ]
    }
   ],
   "source": [
    "#Task 1\n",
    "import math\n",
    "def convert(deg):\n",
    "    return (deg*math.pi)/180\n",
    "\n",
    "deg = int(input())\n",
    "\n",
    "rad = convert(deg)\n",
    "\n",
    "print(f\"Input degree: {deg}\\nConvert radian: {rad}\")"
   ]
  },
  {
   "cell_type": "code",
   "execution_count": 5,
   "metadata": {},
   "outputs": [
    {
     "name": "stdout",
     "output_type": "stream",
     "text": [
      "Heigth: 5\n",
      "Base, first value: 5\n",
      "Base, second value: 6\n",
      "Expected output: 27.5\n"
     ]
    }
   ],
   "source": [
    "#Task 2\n",
    "def trapezoid(n, b, a):\n",
    "    mid = (b+a)/2\n",
    "    return mid*n\n",
    "\n",
    "\n",
    "n, b, a = int(input()), int(input()), int(input())\n",
    "\n",
    "s = trapezoid(n, b, a)\n",
    "\n",
    "print(f\"Heigth: {n}\\nBase, first value: {b}\\nBase, second value: {a}\\nExpected output: {s}\")"
   ]
  },
  {
   "cell_type": "code",
   "execution_count": 8,
   "metadata": {},
   "outputs": [
    {
     "name": "stdout",
     "output_type": "stream",
     "text": [
      "Input number of sides: 4\n",
      "Input length of a side: 25\n",
      "The area of the polygon is: 625\n"
     ]
    }
   ],
   "source": [
    "#Task 3\n",
    "def area(n, a):\n",
    "    return (n*a**2)/(4*math.tan(math.pi/n))\n",
    "\n",
    "n, a = int(input()), int(input())\n",
    "\n",
    "s = area(n, a)\n",
    "print(f\"Input number of sides: {n}\\nInput length of a side: {a}\\nThe area of the polygon is: {round(s)}\")"
   ]
  },
  {
   "cell_type": "code",
   "execution_count": 9,
   "metadata": {},
   "outputs": [
    {
     "name": "stdout",
     "output_type": "stream",
     "text": [
      "Length of base: 5\n",
      "Height of parallelogram: 6\n",
      "Expected Output: 30\n"
     ]
    }
   ],
   "source": [
    "#Task 4\n",
    "def areapoll(n, a):\n",
    "    return n*a\n",
    "\n",
    "n, a = int(input()), int(input())\n",
    "\n",
    "s = areapoll(n, a)\n",
    "print(f\"Length of base: {n}\\nHeight of parallelogram: {a}\\nExpected Output: {s}\")"
   ]
  }
 ],
 "metadata": {
  "kernelspec": {
   "display_name": "Python 3",
   "language": "python",
   "name": "python3"
  },
  "language_info": {
   "codemirror_mode": {
    "name": "ipython",
    "version": 3
   },
   "file_extension": ".py",
   "mimetype": "text/x-python",
   "name": "python",
   "nbconvert_exporter": "python",
   "pygments_lexer": "ipython3",
   "version": "3.13.0"
  }
 },
 "nbformat": 4,
 "nbformat_minor": 2
}
