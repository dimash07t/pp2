{
 "cells": [
  {
   "cell_type": "markdown",
   "metadata": {},
   "source": [
    "Define a class which has at least two methods: getString: to get a string from console input printString: to print the string in upper case."
   ]
  },
  {
   "cell_type": "code",
   "execution_count": null,
   "metadata": {},
   "outputs": [],
   "source": [
    "#Класстың getString және printString әдістері:\n",
    "class StringManipulator:\n",
    "    def __init__(self):\n",
    "        self.s = \"\"  # Бұл жерде біз бос жолды сақтайтын атрибутты инициализациялаймыз.\n",
    "\n",
    "    def getString(self):\n",
    "        self.s = input(\"Жолды енгізіңіз: \")  # Бұл әдіс пайдаланушыдан жолды енгізуді сұрайды және оны self.s атрибутына сақтайды.\n",
    "\n",
    "    def printString(self):\n",
    "        print(self.s.upper())  # Бұл әдіс сақталған жолды үлкен әріптерге түрлендіріп, экранға шығарады.\n",
    "\n",
    "# Мысал қолдану:\n",
    "sm = StringManipulator()  # StringManipulator класының объектісін жасаймыз.\n",
    "sm.getString()  # Пайдаланушыдан жолды енгізуді сұраймыз.\n",
    "sm.printString()  # Енгізілген жолды үлкен әріптермен шығарамыз."
   ]
  },
  {
   "cell_type": "markdown",
   "metadata": {},
   "source": [
    "Define a class named Shape and its subclass Square. The Square class has an init function which takes a length as argument. Both classes have a area function which can print the area of the shape where Shape's area is 0 by default."
   ]
  },
  {
   "cell_type": "code",
   "execution_count": null,
   "metadata": {},
   "outputs": [],
   "source": [
    "class Shape:\n",
    "    def area(self):\n",
    "        return 0  # Пішіннің ауданы 0-ге тең\n",
    "\n",
    "class Square(Shape):\n",
    "    def __init__(self, length):\n",
    "        self.length = length  # Шаршының ұзындығын инициализациялау\n",
    "\n",
    "    def area(self):\n",
    "        return self.length * self.length  # Шаршының ауданын есептеу\n",
    "\n",
    "# Мысал қолдану:\n",
    "square = Square(5)\n",
    "print(square.area())  # Шығару: 25"
   ]
  },
  {
   "cell_type": "markdown",
   "metadata": {},
   "source": [
    "Define a class named Rectangle which inherits from Shape class from task 2. Class instance can be constructed by a length and width. The Rectangle class has a method which can compute the area."
   ]
  },
  {
   "cell_type": "code",
   "execution_count": null,
   "metadata": {},
   "outputs": [],
   "source": [
    "# Shape класын анықтау\n",
    "class Shape:\n",
    "    def area(self):\n",
    "        return 0  # Пішіннің ауданы 0-ге тең\n",
    "\n",
    "# Rectangle класын анықтау, ол Shape класынан мұраланады\n",
    "class Rectangle(Shape):\n",
    "    def __init__(self, length, width):\n",
    "        self.length = length  # Тіктөртбұрыштың ұзындығы\n",
    "        self.width = width    # Тіктөртбұрыштың ені\n",
    "\n",
    "    def area(self):\n",
    "        return self.length * self.width  # Тіктөртбұрыштың ауданын есептеу\n",
    "\n",
    "# Мысал қолдану\n",
    "rectangle = Rectangle(4, 6)\n",
    "print(rectangle.area())  # Шығару: 24"
   ]
  },
  {
   "cell_type": "markdown",
   "metadata": {},
   "source": [
    "Write the definition of a Point class. Objects from this class should have a"
   ]
  },
  {
   "cell_type": "code",
   "execution_count": null,
   "metadata": {},
   "outputs": [],
   "source": [
    "\n",
    "import math\n",
    "\n",
    "class Point:\n",
    "    def __init__(self, x, y):\n",
    "        self.x = x  # Нүктенің x координаты\n",
    "        self.y = y  # Нүктенің y координаты\n",
    "\n",
    "    def show(self):\n",
    "        print(f\"Координаттар: ({self.x}, {self.y})\")  # Координаттарды көрсету\n",
    "\n",
    "    def move(self, new_x, new_y):\n",
    "        self.x = new_x  # x координатын өзгерту\n",
    "        self.y = new_y  # y координатын өзгерту\n",
    "\n",
    "    def dist(self, other_point):\n",
    "        # Екі нүкте арасындағы қашықтықты есептеу\n",
    "        return math.sqrt((self.x - other_point.x)**2 + (self.y - other_point.y)**2)\n",
    "\n",
    "# Мысал қолдану:\n",
    "p1 = Point(2, 3)\n",
    "p2 = Point(5, 7)\n",
    "p1.show()\n",
    "p2.show()\n",
    "print(p1.dist(p2))  # Шығару: 5.0"
   ]
  },
  {
   "cell_type": "markdown",
   "metadata": {},
   "source": [
    "Create a bank account class that has attributes owner, balance and two methods deposit and withdraw. Withdrawals may not exceed the available balance. Instantiate your class, make several deposits and withdrawals, and test to make sure the account can't be overdrawn."
   ]
  },
  {
   "cell_type": "code",
   "execution_count": null,
   "metadata": {},
   "outputs": [],
   "source": [
    "\n",
    "\n",
    "class Account:\n",
    "    def __init__(self, owner, balance=0):\n",
    "        self.owner = owner    # Шот иесінің атын сақтайды\n",
    "        self.balance = balance  # Шоттағы қаражатты сақтайды (бастапқыда 0-ге тең)\n",
    "\n",
    "    def deposit(self, amount):\n",
    "        self.balance += amount  # Шотқа ақша қосады\n",
    "        print(f\"{amount} салынды. Жаңа баланс: {self.balance}\")  # Қосылған ақшаны және жаңа балансты көрсетеді\n",
    "\n",
    "    def withdraw(self, amount):\n",
    "        if amount > self.balance:  # Егер алуға тырысқан ақша баланстан асып кетсе\n",
    "            print(\"Қаражат жетіспейді\")  # Хабарлама шығарады\n",
    "        else:\n",
    "            self.balance -= amount  # Шоттан ақшаны алып тастайды\n",
    "            print(f\"{amount} алынды. Жаңа баланс: {self.balance}\")  # Алынған ақшаны және жаңа балансты көрсетеді\n",
    "\n",
    "# Мысал қолдану:\n",
    "acc = Account(\"John Doe\", 100)  # Шотты жасау, иесі \"John Doe\", бастапқы баланс 100\n",
    "acc.deposit(50)  # Шотқа 50 қосу\n",
    "acc.withdraw(20)  # Шоттан 20 алу\n",
    "acc.withdraw(200)  # Шоттан 200 алуға тырысу (бірақ қаражат жетпейді)"
   ]
  }
 ],
 "metadata": {
  "kernelspec": {
   "display_name": "Python 3",
   "language": "python",
   "name": "python3"
  },
  "language_info": {
   "name": "python",
   "version": "3.13.1"
  }
 },
 "nbformat": 4,
 "nbformat_minor": 2
}
