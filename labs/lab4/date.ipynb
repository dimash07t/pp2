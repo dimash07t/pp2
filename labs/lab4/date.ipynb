{
 "cells": [
  {
   "cell_type": "code",
   "execution_count": 2,
   "metadata": {},
   "outputs": [
    {
     "name": "stdout",
     "output_type": "stream",
     "text": [
      "The current date: 02/11/25\n",
      "The date 5 days ago: 02/06/25\n"
     ]
    }
   ],
   "source": [
    "#Task 1\n",
    "import datetime\n",
    "\n",
    "x = datetime.datetime.now()\n",
    "print(f\"The current date: {x.strftime(\"%x\")}\")\n",
    "\n",
    "x = x-datetime.timedelta(days=5)\n",
    "\n",
    "print(f\"The date 5 days ago: {x.strftime(\"%x\")}\")\n",
    "\n"
   ]
  },
  {
   "cell_type": "code",
   "execution_count": 4,
   "metadata": {},
   "outputs": [
    {
     "name": "stdout",
     "output_type": "stream",
     "text": [
      "Today is Tuesday\n",
      "Yestarday was Monday\n",
      "Tomorrow will be Wednesday\n"
     ]
    }
   ],
   "source": [
    "#Task 2\n",
    "today = datetime.datetime.now()\n",
    "print(f\"Today is {today.strftime(\"%A\")}\")\n",
    "yesterday = today - datetime.timedelta(days=1)\n",
    "print(f\"Yestarday was {yesterday.strftime(\"%A\")}\")\n",
    "tomorrow = today + datetime.timedelta(days=1)\n",
    "print(f\"Tomorrow will be {tomorrow.strftime(\"%A\")}\")"
   ]
  },
  {
   "cell_type": "code",
   "execution_count": 5,
   "metadata": {},
   "outputs": [
    {
     "name": "stdout",
     "output_type": "stream",
     "text": [
      "Current time with microseconds:  15:27:22.186607\n",
      "Current time without microsecond:  15:27:22\n"
     ]
    }
   ],
   "source": [
    "#Task 3\n",
    "time = datetime.datetime.now()\n",
    "print(\"Current time with microseconds: \", time.time())\n",
    "print(\"Current time without microsecond: \", time.strftime(\"%X\"))"
   ]
  },
  {
   "cell_type": "code",
   "execution_count": 7,
   "metadata": {},
   "outputs": [
    {
     "name": "stdout",
     "output_type": "stream",
     "text": [
      "86400.0\n"
     ]
    }
   ],
   "source": [
    "#Task 4\n",
    "a = input(\"Enter a 1st day (YYYY-MM-DD): \")\n",
    "b = input(\"Enter a 2st day (YYYY-MM-DD): \")\n",
    "\n",
    "day1 = datetime.datetime.strptime(a, \"%Y-%m-%d\")\n",
    "day2 = datetime.datetime.strptime(b, \"%Y-%m-%d\")\n",
    "\n",
    "diff = abs(day1 - day2)\n",
    "diff2 = diff.total_seconds()\n",
    "\n",
    "print(diff2)"
   ]
  }
 ],
 "metadata": {
  "kernelspec": {
   "display_name": "Python 3",
   "language": "python",
   "name": "python3"
  },
  "language_info": {
   "codemirror_mode": {
    "name": "ipython",
    "version": 3
   },
   "file_extension": ".py",
   "mimetype": "text/x-python",
   "name": "python",
   "nbconvert_exporter": "python",
   "pygments_lexer": "ipython3",
   "version": "3.13.0"
  }
 },
 "nbformat": 4,
 "nbformat_minor": 2
}
