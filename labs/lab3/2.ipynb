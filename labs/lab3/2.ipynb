{
 "cells": [
  {
   "cell_type": "markdown",
   "metadata": {},
   "source": [
    "A recipe you are reading states how many grams you need for the ingredient. Unfortunately, your store only sells items in ounces. Create a function to convert grams to ounces. ounces = 28.3495231 * grams"
   ]
  },
  {
   "cell_type": "code",
   "execution_count": null,
   "metadata": {},
   "outputs": [
    {
     "ename": "",
     "evalue": "",
     "output_type": "error",
     "traceback": [
      "\u001b[1;31mRunning cells with 'Python 3.13.1' requires the ipykernel package.\n",
      "\u001b[1;31mRun the following command to install 'ipykernel' into the Python environment. \n",
      "\u001b[1;31mCommand: 'c:/Users/Dima/AppData/Local/Programs/Python/Python313/python.exe -m pip install ipykernel -U --user --force-reinstall'"
     ]
    }
   ],
   "source": [
    "def dimash0(ounces):\n",
    "    return ounces * 28.3495231\n",
    "ounces = float(input())\n",
    "print(dimash0(ounces))\n"
   ]
  },
  {
   "cell_type": "markdown",
   "metadata": {},
   "source": [
    "Read in a Fahrenheit temperature. Calculate and display the equivalent centigrade temperature. The following formula is used for the conversion: C = (5 / 9) * (F – 32)"
   ]
  },
  {
   "cell_type": "code",
   "execution_count": null,
   "metadata": {},
   "outputs": [],
   "source": [
    "def dim(f):\n",
    "    return (5/9)*(f-32)\n",
    "f = float(input())\n",
    "print(dim(f))"
   ]
  },
  {
   "cell_type": "markdown",
   "metadata": {},
   "source": [
    "Write a program to solve a classic puzzle: We count 35 heads and 94 legs among the chickens and rabbits in a farm. How many rabbits and how many chickens do we have? create function: solve(numheads, numlegs):"
   ]
  },
  {
   "cell_type": "code",
   "execution_count": null,
   "metadata": {},
   "outputs": [],
   "source": [
    "def am(head, leng):\n",
    "    for i in range (1,head):\n",
    "        if i*2+(head-i)*4 == leng:\n",
    "            print( f\"chiken {i}, rabbit {head-i}\")\n",
    "        \n",
    "am(35, 94)"
   ]
  },
  {
   "cell_type": "markdown",
   "metadata": {},
   "source": [
    "You are given list of numbers separated by spaces. Write a function filter_prime which will take list of numbers as an agrument and returns only prime numbers from the list."
   ]
  },
  {
   "cell_type": "code",
   "execution_count": null,
   "metadata": {},
   "outputs": [],
   "source": [
    "# Санның жай сан екенін тексеретін функция\n",
    "def is_prime(n):\n",
    "    if n <= 1:\n",
    "        return False  # 1-ден кіші сандар жай сан емес\n",
    "    for i in range(2, int(n**0.5) + 1):  # 2-ден бастап, санның түбіріне дейін тексеру\n",
    "        if n % i == 0:  # Егер сан бөлгіш тапса\n",
    "            return False  # Жай сан емес\n",
    "    return True  # Егер бөлгіш табылмаса, жай сан\n",
    "\n",
    "# Сандар тізімінен жай сандарды сүзгілейтін функция\n",
    "def filter_prime(numbers):\n",
    "    return [num for num in numbers if is_prime(num)]  # Жай сандардың тізімін қайтару\n",
    "\n",
    "# Мысал қолдану:\n",
    "print(filter_prime([2, 3, 4, 5, 6, 7, 8, 9, 10]))  # Жай сандарды сүзгілеу және нәтижені шығару"
   ]
  },
  {
   "cell_type": "markdown",
   "metadata": {},
   "source": [
    "Write a function that accepts string from user and print all permutations of that string."
   ]
  },
  {
   "cell_type": "code",
   "execution_count": null,
   "metadata": {},
   "outputs": [],
   "source": [
    "from itertools import permutations  # Пермутацияларды (ауыстырып қоюларды) есептеу үшін қажетті модуль\n",
    "\n",
    "# Берілген жолдың барлық пермутацияларын шығаратын функция\n",
    "def print_permutations(s):\n",
    "    perms = [''.join(p) for p in permutations(s)]  # Жолдың барлық пермутацияларын тізімге алу\n",
    "    for perm in perms:  # Әрбір пермутацияны бөлек шығару\n",
    "        print(perm)\n",
    "\n",
    "# Мысал қолдану:\n",
    "print_permutations(\"abc\")  # \"abc\" жолының барлық пермутацияларын шығару"
   ]
  },
  {
   "cell_type": "markdown",
   "metadata": {},
   "source": [
    "Write a function that accepts string from user, return a sentence with the words reversed. We are ready -> ready are We"
   ]
  },
  {
   "cell_type": "code",
   "execution_count": null,
   "metadata": {},
   "outputs": [],
   "source": [
    "# Сөздерді кері тәртіпте қайтаратын функция\n",
    "def reverse_sentence(sentence):\n",
    "    words = sentence.split()  # Жолды бос орындар бойынша бөліп, сөздер тізімін алу\n",
    "    reversed_sentence = ' '.join(reversed(words))  # Сөздерді кері тәртіпте қайтару\n",
    "    return reversed_sentence\n",
    "\n",
    "# Мысал қолдану:\n",
    "print(reverse_sentence(\"We are ready\"))  # Шығару: \"ready are We\""
   ]
  },
  {
   "cell_type": "markdown",
   "metadata": {},
   "source": [
    "Given a list of ints, return True if the array contains a 3 next to a 3 somewhere."
   ]
  },
  {
   "cell_type": "code",
   "execution_count": null,
   "metadata": {},
   "outputs": [],
   "source": [
    "# Тізімде 3 саны 3 санының қасында тұрғанын тексеру функциясы\n",
    "def has_33(nums):\n",
    "    for i in range(len(nums) - 1):  # Тізім бойынша қатарлас элементтерді тексеру\n",
    "        if nums[i] == 3 and nums[i + 1] == 3:  # Егер 3 саны 3 санының қасында болса\n",
    "            return True\n",
    "    return False  # Егер шарт орындалмаса\n",
    "\n",
    "# Мысал қолдану:\n",
    "print(has_33([1, 3, 3]))  # Шығару: True\n",
    "print(has_33([1, 3, 1, 3]))  # Шығару: False\n",
    "print(has_33([3, 1, 3]))  # Шығару: False"
   ]
  },
  {
   "cell_type": "markdown",
   "metadata": {},
   "source": [
    "Write a function that takes in a list of integers and returns True if it contains 007 in order"
   ]
  },
  {
   "cell_type": "code",
   "execution_count": null,
   "metadata": {},
   "outputs": [],
   "source": [
    "# Тізімде 007 тізбегін табу функциясы\n",
    "def spy_game(nums):\n",
    "    code = [0, 0, 7]  # Ізделетін тізбек\n",
    "    index = 0  # Тізбектің индексі\n",
    "    for num in nums:  # Тізім бойынша өту\n",
    "        if num == code[index]:  # Егер сан тізбектегі санға сәйкес келсе\n",
    "            index += 1  # Келесі санға өту\n",
    "            if index == len(code):  # Егер тізбек табылса\n",
    "                return True\n",
    "    return False  # Егер тізбек табылмаса\n",
    "\n",
    "# Мысал қолдану:\n",
    "print(spy_game([1, 2, 4, 0, 0, 7, 5]))  # Шығару: True\n",
    "print(spy_game([1, 0, 2, 4, 0, 5, 7]))  # Шығару: True\n",
    "print(spy_game([1, 7, 2, 0, 4, 5, 0]))  # Шығару: False"
   ]
  },
  {
   "cell_type": "markdown",
   "metadata": {},
   "source": [
    "Write a function that computes the volume of a sphere given its radius."
   ]
  },
  {
   "cell_type": "code",
   "execution_count": null,
   "metadata": {},
   "outputs": [],
   "source": [
    "import math  # Математикалық функциялар үшін модуль\n",
    "\n",
    "# Шардың көлемін есептеу функциясы\n",
    "def sphere_volume(radius):\n",
    "    return (4 / 3) * math.pi * (radius ** 3)  # Шар көлемінің формуласы\n",
    "\n",
    "# Мысал қолдану:\n",
    "print(sphere_volume(5))  # Шығару: 523.5987755982989"
   ]
  },
  {
   "cell_type": "markdown",
   "metadata": {},
   "source": [
    "Write a Python function that takes a list and returns a new list with unique elements of the first list. Note: don't use collection set.\n",
    "\n"
   ]
  },
  {
   "cell_type": "code",
   "execution_count": null,
   "metadata": {},
   "outputs": [],
   "source": [
    "# Тізімдегі бірегей элементтерді қайтару функциясы\n",
    "def unique_elements(lst):\n",
    "    unique = []  # Бірегей элементтер тізімі\n",
    "    for item in lst:  # Тізім бойынша өту\n",
    "        if item not in unique:  # Егер элемент бірегей болса\n",
    "            unique.append(item)  # Бірегей элементтер тізіміне қосу\n",
    "    return unique\n",
    "\n",
    "# Мысал қолдану:\n",
    "print(unique_elements([1, 2, 2, 3, 4, 4, 5]))  # Шығару: [1, 2, 3, 4, 5]"
   ]
  },
  {
   "cell_type": "markdown",
   "metadata": {},
   "source": [
    "Write a Python function that checks whether a word or phrase is palindrome or not. Note: A palindrome is word, phrase, or sequence that reads the same backward as forward, e.g., madam"
   ]
  },
  {
   "cell_type": "code",
   "execution_count": null,
   "metadata": {},
   "outputs": [],
   "source": [
    "# Палиндромды тексеру функциясы\n",
    "def is_palindrome(s):\n",
    "    s = s.replace(\" \", \"\").lower()  # Бос орындарды жою және барлық әріптерді кіші әріпке түрлендіру\n",
    "    return s == s[::-1]  # Жолды керісінше тексеру\n",
    "\n",
    "# Мысал қолдану:\n",
    "print(is_palindrome(\"madam\"))  # Шығару: True\n",
    "print(is_palindrome(\"A man a plan a canal Panama\"))  # Шығару: True\n",
    "print(is_palindrome(\"hello\"))  # Шығару: False"
   ]
  },
  {
   "cell_type": "markdown",
   "metadata": {},
   "source": [
    "Define a functino histogram() that takes a list of integers and prints a histogram to the screen. For example, histogram([4, 9, 7]) should print the following:"
   ]
  },
  {
   "cell_type": "code",
   "execution_count": null,
   "metadata": {},
   "outputs": [],
   "source": [
    "# Гистограмманы басып шығару функциясы\n",
    "def histogram(numbers):\n",
    "    for num in numbers:  # Тізімдегі әрбір сан үшін\n",
    "        print('*' * num)  # Санға сәйкес * басып шығару\n",
    "\n",
    "# Мысал қолдану:\n",
    "histogram([4, 9, 7])"
   ]
  },
  {
   "cell_type": "markdown",
   "metadata": {},
   "source": [
    "Write a program able to play the \"Guess the number\" - game, where the number to be guessed is randomly chosen between 1 and 20. This is how it should work when run in a terminal:"
   ]
  },
  {
   "cell_type": "code",
   "execution_count": null,
   "metadata": {},
   "outputs": [],
   "source": [
    "import random  # Кездейсоқ санды таңдау үшін модуль\n",
    "\n",
    "# Санды табу ойыны\n",
    "def guess_the_number():\n",
    "    name = input(\"Hello! What is your name?\\n\")  # Пайдаланушының атын сұрау\n",
    "    print(f\"Well, {name}, I am thinking of a number between 1 and 20.\")\n",
    "    number = random.randint(1, 20)  # 1-ден 20-ға дейін кездейсоқ сан таңдау\n",
    "    guesses = 0  # Табуға жұмсалған әрекеттер саны\n",
    "\n",
    "    while True:\n",
    "        guess = int(input(\"Take a guess.\\n\"))  # Пайдаланушының болжамын енгізу\n",
    "        guesses += 1  # Әрекеттер санын арттыру\n",
    "\n",
    "        if guess < number:\n",
    "            print(\"Your guess is too low.\")  # Болжам төмен болса\n",
    "        elif guess > number:\n",
    "            print(\"Your guess is too high.\")  # Болжам жоғары болса\n",
    "        else:\n",
    "            print(f\"Good job, {name}! You guessed my number in {guesses} guesses!\")  # Сан табылса\n",
    "            break  # Ойынды аяқтау\n",
    "\n",
    "# Мысал қолдану:\n",
    "guess_the_number()"
   ]
  },
  {
   "cell_type": "markdown",
   "metadata": {},
   "source": [
    "Create a python file and import some of the functions from the above 13 tasks and try to use them."
   ]
  },
  {
   "cell_type": "code",
   "execution_count": null,
   "metadata": {},
   "outputs": [],
   "source": [
    "from ex1 import grams_to_ounces\n",
    "from ex5 import print_permutations\n",
    "\n",
    "print(grams_to_ounces(100))\n",
    "print_permutations(\"123\")"
   ]
  }
 ],
 "metadata": {
  "kernelspec": {
   "display_name": "Python 3",
   "language": "python",
   "name": "python3"
  },
  "language_info": {
   "name": "python",
   "version": "3.13.1"
  }
 },
 "nbformat": 4,
 "nbformat_minor": 2
}
