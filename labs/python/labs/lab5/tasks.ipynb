{
 "cells": [
  {
   "cell_type": "code",
   "execution_count": 35,
   "metadata": {},
   "outputs": [],
   "source": [
    "import re\n",
    "with open('prob.txt', 'r', encoding=\"utf-8\") as txt_file:\n",
    "    text = txt_file.read()\n",
    "\n"
   ]
  },
  {
   "cell_type": "code",
   "execution_count": 28,
   "metadata": {},
   "outputs": [
    {
     "name": "stdout",
     "output_type": "stream",
     "text": [
      "['early', 'Olivia', 'walked', 'park', 'fresh_air', 'a', 'and', 'distance', 'played', 'near', 'lake', 'small_stones', 'water', 'Nearby', 'an', 'artist', 'was', 'painting', 'a', 'beautiful_landscape', 'various', 'shades', 'and', 'also', 'saw', 'a', 'named', 'had', 'a', 'classic', 'Later', 'Olivia', 'name', 'was', 'and', 'MachineLearning', 'and', 'DataAnalysis', 'creating', 'a', 'that', 'CamelCaseWords', 'and', 'snake_case_words', 'was', 'also', 'an', 'analyzing', 'uppercase_and_lowercase_words', 'large', 'That', 'at', 'a', 'place', 'called', 'had', 'as', 'grilled_salmon', 'fresh_pasta', 'and', 'mixed_vegetables', 'waiting', 'Olivia', 'read', 'a', 'about', 'history_of_art', 'and', 'architecture', 'hand', 'was', 'organizing', 'an', 'leaving', 'Olivia', 'and', 'planned', 'babble', 'wanted', 'GrandCanyon', 'and', 'famous', 'landmarks', 'had', 'already', 'created', 'a', 'CentralLibrary', 'HistoricalMuseum', 'and', 'finalized', 'plans', 'that', 'weather_forecast', 'had', 'a', 'day', 'learning', 'and', 'agreed', 'that', 'day', 'crab', 'grab', 'a', 'snack', 'near', 'beach']\n"
     ]
    }
   ],
   "source": [
    "#Task 1 \n",
    "def check1(a):\n",
    "    pattern = r'.*a+b*.*'\n",
    "    if re.fullmatch(pattern, a):\n",
    "        return True\n",
    "    return False\n",
    "words = re.split(r'[, .!?\\n]', text)\n",
    "res = []\n",
    "\n",
    "for i in words:\n",
    "    if check1(i):\n",
    "        res.append(i)\n",
    "\n",
    "print(res)"
   ]
  },
  {
   "cell_type": "code",
   "execution_count": 29,
   "metadata": {},
   "outputs": [
    {
     "name": "stdout",
     "output_type": "stream",
     "text": [
      "['babble']\n"
     ]
    }
   ],
   "source": [
    "#Task 2\n",
    "def check2(s):\n",
    "    pattern = r'.*a+(b{2}|b{3}).*'\n",
    "    if re.fullmatch(pattern, s):\n",
    "        return True\n",
    "    return False\n",
    "\n",
    "res = []\n",
    "for i in words:\n",
    "    if check2(i):\n",
    "        res.append(i)\n",
    "\n",
    "print(res)"
   ]
  },
  {
   "cell_type": "code",
   "execution_count": 38,
   "metadata": {},
   "outputs": [
    {
     "name": "stdout",
     "output_type": "stream",
     "text": [
      "['fresh_air', 'bright_blue', 'small_stones', 'beautiful_landscape', 'grilled_salmon', 'fresh_pasta', 'mixed_vegetables', 'weather_forecast']\n"
     ]
    }
   ],
   "source": [
    "#task 3\n",
    "def check3(s):\n",
    "    pattern = r'[a-z]+_[a-z]+'\n",
    "    if re.fullmatch(pattern, s):\n",
    "        return True\n",
    "    return False\n",
    "\n",
    "res1 = [] #It is the array of snack case strings\n",
    "for i in words:\n",
    "    if check3(i):\n",
    "        res1.append(i)\n",
    "    \n",
    "print(res1)"
   ]
  },
  {
   "cell_type": "code",
   "execution_count": 31,
   "metadata": {},
   "outputs": [
    {
     "name": "stdout",
     "output_type": "stream",
     "text": [
      "['In', 'Olivia', 'She', 'Nearby', 'She', 'Later', 'Olivia', 'Her', 'Emily', 'One', 'She', 'That', 'Their', 'While', 'Olivia', 'Emily', 'Before', 'Olivia', 'Emily', 'They', 'Emily', 'As', 'It', 'They', 'The']\n"
     ]
    }
   ],
   "source": [
    "#task 4\n",
    "def check4(s):\n",
    "    pattern = r'[A-Z]{1}[a-z]+'\n",
    "    if re.fullmatch(pattern, s):\n",
    "        return True\n",
    "    return False\n",
    "res = []\n",
    "for i in words:\n",
    "    if check4(i):\n",
    "        res.append(i)\n",
    "    \n",
    "print(res)"
   ]
  },
  {
   "cell_type": "code",
   "execution_count": 32,
   "metadata": {},
   "outputs": [
    {
     "name": "stdout",
     "output_type": "stream",
     "text": [
      "['crab', 'grab']\n"
     ]
    }
   ],
   "source": [
    "#task 5\n",
    "def check5(s):\n",
    "    pattern = r'.*a+.*b$'\n",
    "    if re.fullmatch(pattern, s):\n",
    "        return True\n",
    "    return False\n",
    "res = []\n",
    "for i in words:\n",
    "    if check5(i):\n",
    "        res.append(i)\n",
    "    \n",
    "print(res)"
   ]
  },
  {
   "cell_type": "code",
   "execution_count": 34,
   "metadata": {},
   "outputs": [
    {
     "name": "stdout",
     "output_type": "stream",
     "text": [
      "In:the:early:morning::Olivia:walked:through:the:park::enjoying:the:fresh_air:\n",
      "She:noticed:a:bright_blue:sky:and:birds:chirping:in:the:distance:\n",
      "A:group:of:children:played:near:the:lake::throwing:small_stones:into:the:water:\n",
      "Nearby::an:artist:was:painting:a:beautiful_landscape:using:various:shades:of:blue:and:green:\n",
      "She:also:saw:a:bookstore:named:River_Words::which:had:a:collection:of:classic:novels:\n",
      "\n",
      "Later::Olivia:stopped:by:her:friend’s:house::Her:friend’s:name:was:Emily_Johnson:\n",
      "Emily:loved:studying:ComputerScience:and:often:discussed:topics:like:MachineLearning:and:DataAnalysis:\n",
      "One:of:her:projects:involved:creating:a:script:that:could:detect:CamelCaseWords:and:snake_case_words:\n",
      "She:was:also:working:on:an:AI:project::analyzing:uppercase_and_lowercase_words:in:large:documents:\n",
      "\n",
      "That:evening::they:decided:to:go:for:dinner:at:a:place:called:Golden_Fork:\n",
      "Their:menu:had:delicious:dishes:such:as:grilled_salmon::fresh_pasta::and:mixed_vegetables:\n",
      "While:waiting:for:their:food::Olivia:read:a:book:about:the:history_of_art:and:architecture:\n",
      "Emily::on:the:other:hand::was:busy:organizing:her:notes:for:an:upcoming:AI:conference:\n",
      "\n",
      "Before:leaving::Olivia:and:Emily:planned:their:next:weekend:trip:babble:\n",
      "They:wanted:to:visit:the:GrandCanyon:and:explore:famous:landmarks:\n",
      "Emily:had:already:created:a:list::including:CentralLibrary::HistoricalMuseum::and:SkylineViewpoint:\n",
      "As:they:finalized:their:plans::they:noticed:that:the:weather_forecast:predicted:sunny:skies:for:the:whole:week:\n",
      "\n",
      "It:had:been:a:wonderful:day:filled:with:learning::exploring::and:delicious:food:\n",
      "They:both:agreed:that:life:is:full:of:opportunities:to:discover:something:new:every:day:\n",
      "The:crab:will:grab:a:snack:near:the:beach:club:\n"
     ]
    }
   ],
   "source": [
    "#Task 6\n",
    "text2 = re.sub(r'[,. ]', r':', text)\n",
    "print(text2)"
   ]
  },
  {
   "cell_type": "code",
   "execution_count": 52,
   "metadata": {},
   "outputs": [
    {
     "name": "stdout",
     "output_type": "stream",
     "text": [
      "Snack case strings: ['fresh_air', 'bright_blue', 'small_stones', 'beautiful_landscape', 'grilled_salmon', 'fresh_pasta', 'mixed_vegetables', 'weather_forecast']\n",
      "Camel case strings: ['FreshAir', 'BrightBlue', 'SmallStones', 'BeautifulLandscape', 'GrilledSalmon', 'FreshPasta', 'MixedVegetables', 'WeatherForecast']\n"
     ]
    }
   ],
   "source": [
    "#Task7\n",
    "# We already have snack case strings as 'res1'\n",
    "def snack_to_camel(s):\n",
    "    t = s.split('_') # ['fresh', 'air']\n",
    "    s1 = t[0]\n",
    "    s1 = s1.capitalize()\n",
    "    s2 = t[1]\n",
    "    s2 = s2.capitalize()\n",
    "    return s1+s2\n",
    "\n",
    "camel = []\n",
    "for i in res1:\n",
    "    camel.append(snack_to_camel(i))\n",
    "print(f\"Snack case strings: {res1}\") #Snack case \n",
    "print(f\"Camel case strings: {camel}\") #Camel case\n",
    "\n"
   ]
  },
  {
   "cell_type": "code",
   "execution_count": 49,
   "metadata": {},
   "outputs": [
    {
     "name": "stdout",
     "output_type": "stream",
     "text": [
      "['In the early morning, ', 'Olivia walked through the park, enjoying the fresh_air.\\n', 'She noticed a bright_blue sky and birds chirping in the distance.\\n', 'A group of children played near the lake, throwing small_stones into the water.\\n', 'Nearby, an artist was painting a beautiful_landscape using various shades of blue and green.\\n', 'She also saw a bookstore named ', 'River_', 'Words, which had a collection of classic novels.\\n\\n', 'Later, ', 'Olivia stopped by her friend’s house. ', 'Her friend’s name was ', 'Emily_', 'Johnson.\\n', 'Emily loved studying ', 'Computer', 'Science and often discussed topics like ', 'Machine', 'Learning and ', 'Data', 'Analysis.\\n', 'One of her projects involved creating a script that could detect ', 'Camel', 'Case', 'Words and snake_case_words.\\n', 'She was also working on an ', 'A', 'I project, analyzing uppercase_and_lowercase_words in large documents.\\n\\n', 'That evening, they decided to go for dinner at a place called ', 'Golden_', 'Fork.\\n', 'Their menu had delicious dishes such as grilled_salmon, fresh_pasta, and mixed_vegetables.\\n', 'While waiting for their food, ', 'Olivia read a book about the history_of_art and architecture.\\n', 'Emily, on the other hand, was busy organizing her notes for an upcoming ', 'A', 'I conference.\\n\\n', 'Before leaving, ', 'Olivia and ', 'Emily planned their next weekend trip babble.\\n', 'They wanted to visit the ', 'Grand', 'Canyon and explore famous landmarks.\\n', 'Emily had already created a list, including ', 'Central', 'Library, ', 'Historical', 'Museum, and ', 'Skyline', 'Viewpoint.\\n', 'As they finalized their plans, they noticed that the weather_forecast predicted sunny skies for the whole week.\\n\\n', 'It had been a wonderful day filled with learning, exploring, and delicious food.\\n', 'They both agreed that life is full of opportunities to discover something new every day.\\n', 'The crab will grab a snack near the beach club.']\n"
     ]
    }
   ],
   "source": [
    "#Task 8\n",
    "words2 = re.split(r'(?<!^)(?=[A-Z])', text)\n",
    "print(words2)"
   ]
  },
  {
   "cell_type": "code",
   "execution_count": 51,
   "metadata": {},
   "outputs": [
    {
     "name": "stdout",
     "output_type": "stream",
     "text": [
      "Fresh Air Bright Blue Small Stones Beautiful Landscape Grilled Salmon Fresh Pasta Mixed Vegetables Weather Forecast\n"
     ]
    }
   ],
   "source": [
    "#Task 9\n",
    "def modify(s):\n",
    "    s = re.sub(r'(?<!^)(?=[A-Z])', ' ', s)\n",
    "    return s\n",
    "\n",
    "s = ''\n",
    "for i in camel:\n",
    "    s+=i\n",
    "\n",
    "print(modify(s))\n"
   ]
  },
  {
   "cell_type": "code",
   "execution_count": 56,
   "metadata": {},
   "outputs": [
    {
     "name": "stdout",
     "output_type": "stream",
     "text": [
      "['fresh_air', 'bright_blue', 'small_stones', 'beautiful_landscape', 'grilled_salmon', 'fresh_pasta', 'mixed_vegetables', 'weather_forecast']\n"
     ]
    }
   ],
   "source": [
    "#Task 10\n",
    "def camel_to_snack(s):\n",
    "    t = re.split(r'(?<!^)(?=[A-Z])', s)\n",
    "    s1 = t[0]\n",
    "    s2 = t[1]\n",
    "    s1 = s1.lower()\n",
    "    s2 = s2.lower()\n",
    "    return s1+'_'+s2\n",
    "\n",
    "res = []\n",
    "\n",
    "for i in camel:\n",
    "    res.append(camel_to_snack(i))\n",
    "\n",
    "print(res)"
   ]
  }
 ],
 "metadata": {
  "kernelspec": {
   "display_name": "Python 3",
   "language": "python",
   "name": "python3"
  },
  "language_info": {
   "codemirror_mode": {
    "name": "ipython",
    "version": 3
   },
   "file_extension": ".py",
   "mimetype": "text/x-python",
   "name": "python",
   "nbconvert_exporter": "python",
   "pygments_lexer": "ipython3",
   "version": "3.13.0"
  }
 },
 "nbformat": 4,
 "nbformat_minor": 2
}
